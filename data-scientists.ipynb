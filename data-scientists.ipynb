{
 "cells": [
  {
   "cell_type": "markdown",
   "source": [
    "Feature Engineering"
   ],
   "metadata": {
    "collapsed": false,
    "pycharm": {
     "name": "#%% md\n"
    }
   }
  },
  {
   "cell_type": "markdown",
   "source": [
    "# Import packages"
   ],
   "metadata": {
    "collapsed": false
   }
  },
  {
   "cell_type": "code",
   "execution_count": 5,
   "outputs": [],
   "source": [
    "# load data\n",
    "from submodules.load_data import load_data\n",
    "# data manipulation\n",
    "import numpy as np\n",
    "import pandas as pd\n",
    "\n",
    "# data visualization\n",
    "import matplotlib.pyplot as plt\n",
    "import seaborn as sns\n",
    "from submodules.plots import plotGender\n",
    "from submodules.plots import plotUnit\n",
    "\n",
    "\n",
    "# data splitting\n",
    "from sklearn.model_selection import train_test_split\n",
    "from sklearn.model_selection import StratifiedShuffleSplit\n",
    "\n",
    "# data preprocessing\n",
    "from sklearn.pipeline import Pipeline\n",
    "from sklearn.impute import SimpleImputer\n",
    "from sklearn.compose import ColumnTransformer\n",
    "from sklearn.preprocessing import FunctionTransformer\n",
    "from sklearn.preprocessing import OneHotEncoder\n",
    "from sklearn.preprocessing import StandardScaler\n",
    "from sklearn.preprocessing import OrdinalEncoder\n",
    "\n",
    "# model\n",
    "from sklearn.neural_network import MLPClassifier\n",
    "from sklearn.linear_model import LogisticRegression\n",
    "from sklearn.model_selection import cross_validate\n",
    "\n",
    "# performance\n",
    "from sklearn.metrics import f1_score"
   ],
   "metadata": {
    "collapsed": false,
    "pycharm": {
     "name": "#%%\n"
    }
   }
  },
  {
   "cell_type": "markdown",
   "source": [
    "# Load the data\n",
    "\n",
    "Load semi-colon seperated data from disk"
   ],
   "metadata": {
    "collapsed": false,
    "pycharm": {
     "name": "#%% md\n"
    }
   }
  },
  {
   "cell_type": "code",
   "execution_count": 6,
   "outputs": [],
   "source": [
    "data = load_data()"
   ],
   "metadata": {
    "collapsed": false,
    "pycharm": {
     "name": "#%%\n"
    }
   }
  },
  {
   "cell_type": "markdown",
   "source": [
    "# Create a Test Dataset\n",
    "> uses scikit-learn\n",
    "\n",
    "Performing this early minimizes generalization and bias you may inadvertently apply to your system.\n",
    "Simply put, a test set of data involves: picking ~20% of the instances randomly and setting them aside.\n",
    "\n",
    "Some considerations for sampling methods that generate the test set:\n",
    "1. you don't want your model to see the entire dataset\n",
    "1. you want to be able to fetch new data for training\n",
    "1. you want to maintain the same percentage of training data against the entire dataset\n",
    "1. you want a representative training dataset (~7% septic positive)\n",
    "\n",
    "https://realpython.com/train-test-split-python-data/"
   ],
   "metadata": {
    "collapsed": false,
    "pycharm": {
     "name": "#%% md\n"
    }
   }
  },
  {
   "cell_type": "code",
   "execution_count": 7,
   "outputs": [],
   "source": [
    "# sets 20% of the data aside for testing, sets the random number generate to it always generates the same shuffled indicies\n",
    "# x = 2 dimensional array with inputs\n",
    "# X_train is the training part of the first sequence (x)\n",
    "# X_test is the test part of the first sequence (x)\n",
    "# y = 1 dimensional array with outputs\n",
    "# y_train is the labeled training part of the second sequence\n",
    "# y_test is the labeled test part of the second sequence\n",
    "# test_size is the amount of the total dataset to set aside for testing\n",
    "# random state fixes the randomization so you get the same results each time\n",
    "# Shuffle before the data is split, it is shuffled\n",
    "# stratified splitting keeps the proportion of y values trhough the train and test sets\n",
    "X_train, X_test, y_train, y_test = train_test_split(data.drop(\"isSepsis\", axis=1), data[\"isSepsis\"], test_size=0.2, random_state=42, stratify=data[\"isSepsis\"])"
   ],
   "metadata": {
    "collapsed": false,
    "pycharm": {
     "name": "#%%\n"
    }
   }
  },
  {
   "cell_type": "markdown",
   "metadata": {
    "collapsed": true,
    "pycharm": {
     "name": "#%% md\n"
    }
   },
   "source": [
    "Age\n",
    "- The max is 100 years old\n",
    "- This could be considered an outlier and capping the age is 90 is a parameter to tune"
   ]
  },
  {
   "cell_type": "code",
   "execution_count": 8,
   "outputs": [],
   "source": [
    "# X_train is all the instance with attributes\n",
    "X_train = X_train.loc[X_train[\"Age\"] <= 100]\n",
    "# y_train is the label of each instance (isSepsis = 1 or 0)\n",
    "y_train = y_train.loc[X_train[\"Age\"] <= 100]\n",
    "\n",
    "# X_test is all the instance with attributes\n",
    "X_test = X_test.loc[X_test[\"Age\"] <= 100]\n",
    "# y_test is the label of each instance (isSepsis = 1 or 0)\n",
    "y_test = y_test.loc[X_test[\"Age\"] <= 100]"
   ],
   "metadata": {
    "collapsed": false,
    "pycharm": {
     "name": "#%%\n"
    }
   }
  },
  {
   "cell_type": "code",
   "execution_count": 9,
   "outputs": [],
   "source": [
    "# discretization is the process of transferring continuous\n",
    "# functions, models, variables, and equations into discrete\n",
    "# counterparts. This process is usually carried out as a first step toward making them suitable for numerical evaluation and implementation on digital computers.\n",
    "# this splits age into 4 categories\n",
    "def discretization_age(data):\n",
    "    bins = [13, 18, 30, 60, np.inf]\n",
    "    data = np.digitize(data, bins=bins)\n",
    "    data = data.reshape(len(data), 1)\n",
    "    return data"
   ],
   "metadata": {
    "collapsed": false,
    "pycharm": {
     "name": "#%%\n"
    }
   }
  },
  {
   "cell_type": "code",
   "execution_count": 10,
   "outputs": [
    {
     "data": {
      "text/plain": "(29041, 1)"
     },
     "execution_count": 10,
     "metadata": {},
     "output_type": "execute_result"
    }
   ],
   "source": [
    "transform_age = FunctionTransformer(discretization_age)\n",
    "transform_age.fit_transform(X_train[\"Age\"]).shape"
   ],
   "metadata": {
    "collapsed": false,
    "pycharm": {
     "name": "#%%\n"
    }
   }
  },
  {
   "cell_type": "code",
   "execution_count": 11,
   "outputs": [
    {
     "data": {
      "text/plain": "(29041, 1)"
     },
     "execution_count": 11,
     "metadata": {},
     "output_type": "execute_result"
    }
   ],
   "source": [
    "# create a class to take care of missing values SimpleImputer\n",
    "# create a SimpleImputer instance with values to replace missing values with the median value\n",
    "# fir the imputer instance to the training data using fit() method\n",
    "age_pipeline = Pipeline([\n",
    "    (\"imputer\", SimpleImputer(strategy=\"median\")),\n",
    "    (\"discretization\", transform_age)\n",
    "])\n",
    "\n",
    "# use the \"trained\" imputer to transform the training set by replacing missing values with the learned medians\n",
    "age_pipeline.fit_transform(X_train[[\"Age\"]]).shape"
   ],
   "metadata": {
    "collapsed": false,
    "pycharm": {
     "name": "#%%\n"
    }
   }
  },
  {
   "cell_type": "markdown",
   "source": [
    "Unit 1 and Unit 2\n",
    "Unit1 - Administrative identifier for ICU unit (MICU)\n",
    "Unit2 - Administrative identifier for ICU unit (SICU)"
   ],
   "metadata": {
    "collapsed": false
   }
  },
  {
   "cell_type": "code",
   "execution_count": 12,
   "outputs": [
    {
     "ename": "NameError",
     "evalue": "name 'combineUnits' is not defined",
     "output_type": "error",
     "traceback": [
      "\u001B[0;31m---------------------------------------------------------------------------\u001B[0m",
      "\u001B[0;31mNameError\u001B[0m                                 Traceback (most recent call last)",
      "\u001B[0;32m<ipython-input-12-8dc2e14aae88>\u001B[0m in \u001B[0;36m<module>\u001B[0;34m\u001B[0m\n\u001B[0;32m----> 1\u001B[0;31m \u001B[0mcombineUnit1and2\u001B[0m \u001B[0;34m=\u001B[0m \u001B[0mFunctionTransformer\u001B[0m\u001B[0;34m(\u001B[0m\u001B[0mcombineUnits\u001B[0m\u001B[0;34m)\u001B[0m\u001B[0;34m\u001B[0m\u001B[0;34m\u001B[0m\u001B[0m\n\u001B[0m\u001B[1;32m      2\u001B[0m \u001B[0;34m\u001B[0m\u001B[0m\n\u001B[1;32m      3\u001B[0m \u001B[0munits\u001B[0m \u001B[0;34m=\u001B[0m \u001B[0;34m[\u001B[0m\u001B[0;34m\"Unit1\"\u001B[0m\u001B[0;34m,\u001B[0m \u001B[0;34m\"Unit2\"\u001B[0m\u001B[0;34m]\u001B[0m\u001B[0;34m\u001B[0m\u001B[0;34m\u001B[0m\u001B[0m\n\u001B[1;32m      4\u001B[0m \u001B[0;34m\u001B[0m\u001B[0m\n\u001B[1;32m      5\u001B[0m unit_pipeline = Pipeline([\n",
      "\u001B[0;31mNameError\u001B[0m: name 'combineUnits' is not defined"
     ]
    }
   ],
   "source": [
    "combineUnit1and2 = FunctionTransformer(combineUnits)\n",
    "\n",
    "units = [\"Unit1\", \"Unit2\"]\n",
    "\n",
    "unit_pipeline = Pipeline([\n",
    "    (\"combine\", combineUnit1and2),\n",
    "    (\"encoder\", OneHotEncoder(sparse=False))\n",
    "])\n",
    "\n",
    "unit_pipeline.fit_transform(X_train[units]).shape"
   ],
   "metadata": {
    "collapsed": false,
    "pycharm": {
     "name": "#%%\n"
    }
   }
  },
  {
   "cell_type": "code",
   "execution_count": 13,
   "outputs": [
    {
     "data": {
      "text/plain": "array([[0.],\n       [0.],\n       [0.],\n       ...,\n       [0.],\n       [0.],\n       [0.]])"
     },
     "execution_count": 13,
     "metadata": {},
     "output_type": "execute_result"
    }
   ],
   "source": [
    "acidbase_features = [\"BaseExcess\", \"PaCO2\"]\n",
    "\n",
    "def isAcidBaseDisturb(cols):\n",
    "    cols = np.c_[cols, np.zeros(len(cols))]\n",
    "    cols[:,2][(cols[:,0] < -2) & (cols[:,1] < 40)] = 1\n",
    "    col = cols[:,2].reshape(len(cols), 1)\n",
    "    return col\n",
    "\n",
    "FindAcidosis = FunctionTransformer(isAcidBaseDisturb)\n",
    "FindAcidosis.fit_transform(X_train[acidbase_features])"
   ],
   "metadata": {
    "collapsed": false,
    "pycharm": {
     "name": "#%%\n"
    }
   }
  },
  {
   "cell_type": "code",
   "execution_count": 14,
   "outputs": [
    {
     "data": {
      "text/plain": "(29041, 1)"
     },
     "execution_count": 14,
     "metadata": {},
     "output_type": "execute_result"
    }
   ],
   "source": [
    "acidbase_pipeline = Pipeline([\n",
    "    (\"imputer\", SimpleImputer(strategy=\"median\")),\n",
    "    (\"acidosis\", FindAcidosis)\n",
    "])\n",
    "\n",
    "acidbase_pipeline.fit_transform(X_train[acidbase_features]).shape"
   ],
   "metadata": {
    "collapsed": false,
    "pycharm": {
     "name": "#%%\n"
    }
   }
  },
  {
   "cell_type": "code",
   "execution_count": null,
   "outputs": [],
   "source": [
    "num_features = [\"HR\",\n",
    "                \"O2Sat\",\n",
    "                \"Temp\",\n",
    "                \"MAP\",\n",
    "                \"Resp\",\n",
    "                \"AST\",\n",
    "                \"BUN\",\n",
    "                \"Alkalinephos\",\n",
    "                \"Calcium\",\n",
    "                \"Creatinine\",\n",
    "                \"Glucose\",\n",
    "                \"Bilirubin_total\",\n",
    "                \"Hgb\",\n",
    "                \"PTT\",\n",
    "                \"WBC\",\n",
    "                \"Fibrinogen\",\n",
    "                \"Platelets\",\n",
    "                \"ICULOS\"\n",
    "                ]\n",
    "\n",
    "num_pipeline = Pipeline([\n",
    "    (\"imputer\", SimpleImputer(strategy=\"median\")),\n",
    "    (\"scaler\", StandardScaler())\n",
    "])\n",
    "\n",
    "num_pipeline.fit_transform(X_train[num_features]).shape"
   ],
   "metadata": {
    "collapsed": false,
    "pycharm": {
     "name": "#%%\n"
    }
   }
  },
  {
   "cell_type": "code",
   "execution_count": null,
   "outputs": [],
   "source": [
    "gender_pipeline = Pipeline([\n",
    "    (\"imputer\", SimpleImputer(strategy=\"most_frequent\")),\n",
    "    (\"encoder\", OrdinalEncoder())\n",
    "])\n",
    "\n",
    "gender_pipeline.fit_transform(X_train[[\"Gender\"]])"
   ],
   "metadata": {
    "collapsed": false,
    "pycharm": {
     "name": "#%%\n"
    }
   }
  },
  {
   "cell_type": "code",
   "execution_count": null,
   "outputs": [],
   "source": [
    "preprocessing_pipeline = ColumnTransformer([\n",
    "    (\"numbers\", num_pipeline, num_features),\n",
    "    (\"acidbase\", acidbase_pipeline, acidbase_features),\n",
    "    (\"age\", age_pipeline, [\"Age\"]),\n",
    "    (\"units\", units_pipeline, units),\n",
    "    (\"gender\", gender_pipeline, [\"Gender\"])\n",
    "], verbose=True)\n",
    "\n",
    "preprocessing_pipeline.fit_transform(X_train).shape"
   ],
   "metadata": {
    "collapsed": false,
    "pycharm": {
     "name": "#%%\n"
    }
   }
  },
  {
   "cell_type": "code",
   "execution_count": null,
   "outputs": [],
   "source": [
    "vitals = [\"HR\", # Heart Rate normal adult 60 - 100 beats per minute (bpm)\n",
    "          \"O2Sat\", # Oxygen saturation normal adult 97% - 100% (%)\n",
    "          \"Temp\", # Temperature normal 97.8°F/36.5°C - 99°F/37.2°C (°C)\n",
    "          #\"SBP\", # Systolic Blood Pressure normal < 120 mmHg (mm Hg) - REMOVED for MAP\n",
    "          \"MAP\", # Mean Arterial Pressure (mm Hg)\n",
    "          #\"DBP\", # beclomethasone dipropionate normal < 80 mmHg (mm Hg) - REMOVED for MAP\n",
    "          \"Resp\" # Respiration rate  12<normal<20 breaths / minute (bpm)\n",
    "          #\"EtCO2\" # End-tidal CO2 maximum concentration of CO2 at exhalation normal 35 - 45 mmHg (mm Hg) = REMOVED missing too much data\n",
    "         ]\n",
    "labs = ['BaseExcess', # strong acid to restore pH (mmoI/L)\n",
    "        #'Magnesium', # symptoms such as weakness, irritability, cardiac arrhythmia, nausea, and/or diarrhea (mmoI/L)\n",
    "        #'Glucose', # blood sugar test (indicates diagnose diabetes, pre-diabetes and gestational diabetes) (mg/dL)\n",
    "        #'Alkalinephos', # Alkaline phosphatase (indicates enzyme activity) (IU/L)\n",
    "        'pH', # 0:14 = acidic = lower pH; alkaline = higher\n",
    "        'Chloride', # an electrolyte to balance fluid in cells normal 96-103 ml (indicates blood pressure/pH) (mmoI/L)\n",
    "        #'Lactate', # high levels indicate lack of oxygen (hypoxia) or other conditions (indicates sepsis) (mg/dL)\n",
    "        # Respiratory\n",
    "        'HCO3', # Bicarbonate, carbon dioxide in blood (indicates metabolism / resp) (mmoI/L)\n",
    "        #'FiO2', # % of concentration of oxygen inhaled (indicates resp) (%) - REMOVED missing too much data\n",
    "        'PaCO2', # partial pressure of carbon dioxide measured in blood (indicates resp) (mm Hg)\n",
    "        #'SaO2', # normal 95-100% oxygen saturation bound to hemoglobin (indicates resp) (%) - REMOVED lack of correlation\n",
    "        # liver\n",
    "        'AST', # aspartate aminotransferase (indicates liver) (IU/L)\n",
    "        #'Bilirubin_direct', # conjugated water soluble (indicates liver) (mg/dL) - REMOVED for _total\n",
    "        'Bilirubin_total', # normal 0.1:1.2 mg/dL (indicates liver) (mg/dL)\n",
    "        # kidneys\n",
    "        'BUN', # blood urea nitrogen, nitrogen in the blood (indicates kidneys) (mg/dL)\n",
    "        'Creatinine', # metabolic panel (indicates kidneys) (mg/dL)\n",
    "        'Calcium', # indicates range of conditions bones, heart, nerves, kidneys, and teeth (mg/dL)\n",
    "        'Phosphate', # related to calcium (indicates kidney or diabetes)  (mg/dL)\n",
    "        'Potassium', # electrolyte or metabolism (affected by blood pressure, kidneys, etc.)  (mmoI/L)\n",
    "        # Heart\n",
    "        #'TroponinI', # cardiac specific Trenonin I and T (indicates injury to heart muscle) - REMOVED missing too much data\n",
    "        # Blood\n",
    "        'Hct', # Hematocrit (indicates portion of blood from Red Blood Cell count) (%)\n",
    "        'Hgb', # Hemoglobin apart of Complete Blood Count (CBC) (indicates blood cell count) (g/dL)\n",
    "        'WBC', # White Blood Cell Count (indicates infection, inflammation or disease) (count10^3/µL)\n",
    "        'PTT', # Partial Thromboplastin Time (indicates bleeding or blood clot) (seconds)\n",
    "        #'Fibrinogen', # coagulation factor I (indicates bleeding or blood clot or cardiovascular disease) (mg/dL) - REMOVED missing too much data\n",
    "        #'Platelets' # indicates bleeding disorder, a bone marrow disease, or other underlying condition ((count10^3/µL))\n",
    "        ]\n",
    "demo = [\"Age\", # Years (100 for patients 90 or above)\n",
    "        #\"Gender\", # Female = 0, Male = 1 - REMOVED no correlation\n",
    "        #\"HospAdmTime\", # Hours between hospital admit and ICU admit - REMOVED no correlation\n",
    "        \"ICULOS\" # ICU length of stay in hours (hours since ICU admit)\n",
    "       ]\n",
    "\n"
   ],
   "metadata": {
    "collapsed": false,
    "pycharm": {
     "name": "#%%\n"
    }
   }
  }
 ],
 "metadata": {
  "kernelspec": {
   "display_name": "Python 3",
   "language": "python",
   "name": "python3"
  },
  "language_info": {
   "codemirror_mode": {
    "name": "ipython",
    "version": 2
   },
   "file_extension": ".py",
   "mimetype": "text/x-python",
   "name": "python",
   "nbconvert_exporter": "python",
   "pygments_lexer": "ipython2",
   "version": "2.7.6"
  }
 },
 "nbformat": 4,
 "nbformat_minor": 0
}