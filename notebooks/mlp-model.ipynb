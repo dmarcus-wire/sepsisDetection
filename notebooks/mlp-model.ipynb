{
 "cells": [
  {
   "cell_type": "markdown",
   "source": [
    "# Multi-layer Perceptron Model\n",
    "\n",
    "> you must run the data-science.ipynb first in order to get the experimental model\n",
    "\n",
    "# Import packages"
   ],
   "metadata": {
    "collapsed": false
   }
  },
  {
   "cell_type": "code",
   "execution_count": 1,
   "outputs": [],
   "source": [
    "# load data\n",
    "# Add directory above current directory to path\n",
    "import sys; sys.path.insert(0, '..')\n",
    "from submodules.load_data import load_data\n",
    "\n",
    "# data manipulation\n",
    "import numpy as np\n",
    "import pandas as pd\n",
    "\n",
    "# data splitting\n",
    "from sklearn.model_selection import train_test_split\n",
    "\n",
    "# data preprocessing\n",
    "from sklearn.pipeline import Pipeline\n",
    "from sklearn.impute import SimpleImputer\n",
    "from sklearn.preprocessing import StandardScaler\n",
    "\n",
    "# model\n",
    "from sklearn.neural_network import MLPClassifier\n",
    "\n",
    "# hyperparameter tuning\n",
    "from sklearn.model_selection import RepeatedKFold\n",
    "from sklearn.model_selection import RandomizedSearchCV\n",
    "\n",
    "# k-fold cross validation\n",
    "from sklearn.model_selection import cross_validate\n",
    "\n",
    "# saving models\n",
    "import joblib\n",
    "\n",
    "# performance\n",
    "from sklearn.metrics import f1_score\n",
    "from sklearn.metrics import recall_score\n",
    "from sklearn.metrics import precision_score\n",
    "from sklearn.metrics import accuracy_score\n",
    "from sklearn.metrics import plot_confusion_matrix\n",
    "from sklearn.metrics import plot_precision_recall_curve\n",
    "import matplotlib.pyplot as plt\n"
   ],
   "metadata": {
    "collapsed": false,
    "pycharm": {
     "name": "#%%\n"
    }
   }
  },
  {
   "cell_type": "markdown",
   "source": [
    "# Load the data\n",
    "\n",
    "Load semi-colon separated data from disk"
   ],
   "metadata": {
    "collapsed": false
   }
  },
  {
   "cell_type": "code",
   "execution_count": 2,
   "outputs": [],
   "source": [
    "#data = load_data()\n",
    "\n",
    "csv_path = \"../data/raw/dataSepsis.csv\"\n",
    "data = pd.read_csv(csv_path, sep=\";\")"
   ],
   "metadata": {
    "collapsed": false,
    "pycharm": {
     "name": "#%%\n"
    }
   }
  },
  {
   "cell_type": "markdown",
   "source": [
    "# Create a Test Dataset"
   ],
   "metadata": {
    "collapsed": false
   }
  },
  {
   "cell_type": "code",
   "execution_count": 3,
   "outputs": [],
   "source": [
    "X_train, X_test, y_train, y_test = \\\n",
    "    train_test_split(data.drop([\"Age\", \"Unit1\", \"Unit2\", \"HospAdmTime\", \"ICULOS\", \"Gender\", \"isSepsis\"], axis=1),\n",
    "    data[\"isSepsis\"], test_size=0.2,\n",
    "    random_state=42, stratify=data[\"isSepsis\"])"
   ],
   "metadata": {
    "collapsed": false,
    "pycharm": {
     "name": "#%%\n"
    }
   }
  },
  {
   "cell_type": "markdown",
   "source": [
    "# Transformation pipeline"
   ],
   "metadata": {
    "collapsed": false
   }
  },
  {
   "cell_type": "code",
   "execution_count": 4,
   "outputs": [],
   "source": [
    "pipeline = joblib.load(\"../data/transform/pipeline_minmax.pkl\")"
   ],
   "metadata": {
    "collapsed": false,
    "pycharm": {
     "name": "#%%\n"
    }
   }
  },
  {
   "cell_type": "markdown",
   "source": [
    "# Transform the data"
   ],
   "metadata": {
    "collapsed": false
   }
  },
  {
   "cell_type": "code",
   "execution_count": 5,
   "outputs": [],
   "source": [
    "X_train_prepared = pipeline.fit_transform(X_train)"
   ],
   "metadata": {
    "collapsed": false,
    "pycharm": {
     "name": "#%%\n"
    }
   }
  },
  {
   "cell_type": "markdown",
   "source": [
    "# Load the model"
   ],
   "metadata": {
    "collapsed": false
   }
  },
  {
   "cell_type": "code",
   "execution_count": 6,
   "outputs": [],
   "source": [
    "# load the model from disk\n",
    "model = joblib.load(\"../models/experiment/mlp_model.pkl\")"
   ],
   "metadata": {
    "collapsed": false,
    "pycharm": {
     "name": "#%%\n"
    }
   }
  },
  {
   "cell_type": "markdown",
   "source": [
    "# Fine tune the Random Forest Classifier with Randomize Search Cross Validation\n",
    "\n",
    "https://scikit-learn.org/stable/modules/generated/sklearn.model_selection.RandomizedSearchCV.html?highlight=randomizedsearchcv#sklearn.model_selection.RandomizedSearchCV\n",
    "https://towardsdatascience.com/hyperparameter-tuning-the-random-forest-in-python-using-scikit-learn-28d2aa77dd74"
   ],
   "metadata": {
    "collapsed": false
   }
  },
  {
   "cell_type": "code",
   "execution_count": 7,
   "outputs": [
    {
     "name": "stdout",
     "output_type": "stream",
     "text": [
      "[INFO] setting hyperparameters...\n"
     ]
    }
   ],
   "source": [
    "print(\"[INFO] setting hyperparameters...\")\n",
    "hidden_layer_sizes = [5, 10, 20, 50, 100, (50,50,50,50)]\n",
    "activation = [\"relu\", \"logistic\", \"tanh\"]\n",
    "solver = [\"lbfgs\", \"sgd\", \"adam\"]\n",
    "learning_rate = [\"constant\", \"invscaling\", \"adaptive\"]\n",
    "max_iter = [500, 1000, 1500, 2500, 4000, 5000, 7000]\n",
    "grid = dict(hidden_layer_sizes=hidden_layer_sizes, activation=activation, solver=solver, learning_rate=learning_rate, max_iter=max_iter)"
   ],
   "metadata": {
    "collapsed": false,
    "pycharm": {
     "name": "#%%\n"
    }
   }
  },
  {
   "cell_type": "code",
   "execution_count": 8,
   "outputs": [
    {
     "name": "stdout",
     "output_type": "stream",
     "text": [
      "[INFO] grid searching over the hyperparameters...\n"
     ]
    }
   ],
   "source": [
    "# initialize a cross-validation fold and perform a randomized-search\n",
    "# to tune the hyperparameters\n",
    "print(\"[INFO] grid searching over the hyperparameters...\")\n",
    "cvFold = RepeatedKFold(n_splits=10, n_repeats=3, random_state=1)\n",
    "randomSearch = RandomizedSearchCV(estimator=model, n_jobs=-1,\n",
    "\tcv=cvFold, param_distributions=grid,\n",
    "\tscoring=\"f1\", return_train_score=True)\n",
    "X_train = pipeline.fit_transform(X_train)\n",
    "searchResults = randomSearch.fit(X_train_prepared, y_train)"
   ],
   "metadata": {
    "collapsed": false,
    "pycharm": {
     "name": "#%%\n"
    }
   }
  },
  {
   "cell_type": "code",
   "execution_count": 9,
   "outputs": [
    {
     "data": {
      "text/plain": "0.40872269108352677"
     },
     "execution_count": 9,
     "metadata": {},
     "output_type": "execute_result"
    }
   ],
   "source": [
    "# print the best score\n",
    "searchResults.best_score_"
   ],
   "metadata": {
    "collapsed": false,
    "pycharm": {
     "name": "#%%\n"
    }
   }
  },
  {
   "cell_type": "code",
   "execution_count": 10,
   "outputs": [
    {
     "data": {
      "text/plain": "{'solver': 'adam',\n 'max_iter': 7000,\n 'learning_rate': 'adaptive',\n 'hidden_layer_sizes': 100,\n 'activation': 'relu'}"
     },
     "execution_count": 10,
     "metadata": {},
     "output_type": "execute_result"
    }
   ],
   "source": [
    "# print the best combination of parameters\n",
    "searchResults.best_params_"
   ],
   "metadata": {
    "collapsed": false,
    "pycharm": {
     "name": "#%%\n"
    }
   }
  },
  {
   "cell_type": "code",
   "execution_count": 11,
   "outputs": [
    {
     "data": {
      "text/plain": "MLPClassifier(hidden_layer_sizes=100, learning_rate='adaptive', max_iter=7000)"
     },
     "execution_count": 11,
     "metadata": {},
     "output_type": "execute_result"
    }
   ],
   "source": [
    "# print the best estimator directly\n",
    "searchResults.best_estimator_"
   ],
   "metadata": {
    "collapsed": false,
    "pycharm": {
     "name": "#%%\n"
    }
   }
  },
  {
   "cell_type": "code",
   "execution_count": 12,
   "outputs": [
    {
     "name": "stdout",
     "output_type": "stream",
     "text": [
      "MLP Confusion Matrix\n",
      "[[26739   184]\n",
      " [ 1476   642]]\n"
     ]
    },
    {
     "data": {
      "text/plain": "<Figure size 432x432 with 2 Axes>",
      "image/png": "[encoded data removed]"
     },
     "metadata": {
      "needs_background": "light"
     },
     "output_type": "display_data"
    }
   ],
   "source": [
    "# confusion matrix with best_estimator_\n",
    "title = \"MLP Confusion Matrix\"\n",
    "fig, ax = plt.subplots(figsize=(6, 6))\n",
    "disp = plot_confusion_matrix(searchResults.best_estimator_, X_train_prepared, y_train, cmap=\"binary\", ax=ax)\n",
    "disp.ax_.set_title(title)\n",
    "print(title)\n",
    "print(disp.confusion_matrix)\n",
    "plt.savefig(\"../reports/figures/tune/mlp_cm.png\")"
   ],
   "metadata": {
    "collapsed": false,
    "pycharm": {
     "name": "#%%\n"
    }
   }
  },
  {
   "cell_type": "markdown",
   "source": [
    "# Serialize the Model"
   ],
   "metadata": {
    "collapsed": false,
    "pycharm": {
     "name": "#%% md\n"
    }
   }
  },
  {
   "cell_type": "code",
   "execution_count": 13,
   "outputs": [
    {
     "data": {
      "text/plain": "['../models/tune/mlp_model.pkl']"
     },
     "execution_count": 13,
     "metadata": {},
     "output_type": "execute_result"
    }
   ],
   "source": [
    "# serialize the model\n",
    "joblib.dump(searchResults.best_estimator_, \"../models/tune/mlp_model.pkl\", compress=('bz2', 3))"
   ],
   "metadata": {
    "collapsed": false,
    "pycharm": {
     "name": "#%%\n"
    }
   }
  },
  {
   "cell_type": "markdown",
   "source": [
    "# Load the model"
   ],
   "metadata": {
    "collapsed": false,
    "pycharm": {
     "name": "#%% md\n"
    }
   }
  },
  {
   "cell_type": "code",
   "execution_count": 14,
   "outputs": [],
   "source": [
    "# load the model from disk\n",
    "model = joblib.load(\"../models/tune/mlp_model.pkl\")"
   ],
   "metadata": {
    "collapsed": false,
    "pycharm": {
     "name": "#%%\n"
    }
   }
  },
  {
   "cell_type": "markdown",
   "source": [
    "# Test the Model"
   ],
   "metadata": {
    "collapsed": false,
    "pycharm": {
     "name": "#%% md\n"
    }
   }
  },
  {
   "cell_type": "code",
   "execution_count": 15,
   "outputs": [],
   "source": [
    "X_test_prepared = pipeline.transform(X_test)"
   ],
   "metadata": {
    "collapsed": false,
    "pycharm": {
     "name": "#%%\n"
    }
   }
  },
  {
   "cell_type": "markdown",
   "source": [
    "#### Confusion Matrix"
   ],
   "metadata": {
    "collapsed": false
   }
  },
  {
   "cell_type": "code",
   "execution_count": 16,
   "outputs": [
    {
     "name": "stdout",
     "output_type": "stream",
     "text": [
      "MLP Confusion Matrix\n",
      "[[6673   59]\n",
      " [ 399  130]]\n"
     ]
    },
    {
     "data": {
      "text/plain": "<Figure size 432x432 with 2 Axes>",
      "image/png": "[encoded data removed]"
     },
     "metadata": {
      "needs_background": "light"
     },
     "output_type": "display_data"
    }
   ],
   "source": [
    "# https://scikit-learn.org/stable/auto_examples/model_selection/plot_confusion_matrix.html#sphx-glr-auto-examples-model-selection-plot-confusion-matrix-py\n",
    "# https://matplotlib.org/stable/tutorials/colors/colormaps.html\n",
    "\n",
    "title = \"MLP Confusion Matrix\"\n",
    "fig, ax = plt.subplots(figsize=(6, 6))\n",
    "disp = plot_confusion_matrix(model, X_test_prepared, y_test, cmap=\"binary\", ax=ax)\n",
    "disp.ax_.set_title(title)\n",
    "print(title)\n",
    "print(disp.confusion_matrix)\n",
    "plt.savefig(\"../reports/figures/final/mlp_cm.png\")"
   ],
   "metadata": {
    "collapsed": false,
    "pycharm": {
     "name": "#%%\n"
    }
   }
  },
  {
   "cell_type": "markdown",
   "source": [
    "#### Precision Recall Curve"
   ],
   "metadata": {
    "collapsed": false
   }
  },
  {
   "cell_type": "code",
   "execution_count": 17,
   "outputs": [
    {
     "name": "stdout",
     "output_type": "stream",
     "text": [
      "MLP Precision Recall Curve\n",
      "0.4477384302229575\n"
     ]
    },
    {
     "data": {
      "text/plain": "<Figure size 432x432 with 1 Axes>",
      "image/png": "[encoded data removed]"
     },
     "metadata": {
      "needs_background": "light"
     },
     "output_type": "display_data"
    }
   ],
   "source": [
    "# computes a precision-recall curve from the ground truth label and a score given\n",
    "# by the classifier by varying a decision threshold\n",
    "title = \"MLP Precision Recall Curve\"\n",
    "fig, ax = plt.subplots(figsize=(6, 6))\n",
    "disp = plot_precision_recall_curve(model, X_test_prepared, y_test, ax=ax)\n",
    "disp.ax_.set_title(title)\n",
    "print(title)\n",
    "print(disp.average_precision)\n",
    "#disp.ax_.set_title('Precision-Recall curve')\n",
    "plt.savefig(\"../reports/figures/final/mlp_prc.png\")"
   ],
   "metadata": {
    "collapsed": false,
    "pycharm": {
     "name": "#%%\n"
    }
   }
  },
  {
   "cell_type": "code",
   "execution_count": 18,
   "outputs": [
    {
     "data": {
      "text/plain": "['../models/final/mlp_model.pkl']"
     },
     "execution_count": 18,
     "metadata": {},
     "output_type": "execute_result"
    }
   ],
   "source": [
    "# serialize the model\n",
    "joblib.dump(model, \"../models/final/mlp_model.pkl\", compress=('bz2', 3))"
   ],
   "metadata": {
    "collapsed": false,
    "pycharm": {
     "name": "#%%\n"
    }
   }
  },
  {
   "cell_type": "code",
   "execution_count": 18,
   "outputs": [],
   "source": [],
   "metadata": {
    "collapsed": false,
    "pycharm": {
     "name": "#%%\n"
    }
   }
  }
 ],
 "metadata": {
  "kernelspec": {
   "display_name": "Python 3",
   "language": "python",
   "name": "python3"
  },
  "language_info": {
   "codemirror_mode": {
    "name": "ipython",
    "version": 2
   },
   "file_extension": ".py",
   "mimetype": "text/x-python",
   "name": "python",
   "nbconvert_exporter": "python",
   "pygments_lexer": "ipython2",
   "version": "2.7.6"
  }
 },
 "nbformat": 4,
 "nbformat_minor": 0
}